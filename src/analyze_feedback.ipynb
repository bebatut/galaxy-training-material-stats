{
 "cells": [
  {
   "cell_type": "markdown",
   "metadata": {},
   "source": [
    "**Purpose**: Analyze the feedback that are embeded at the end of the tutorials in Galaxy Training Material"
   ]
  },
  {
   "cell_type": "code",
   "execution_count": null,
   "metadata": {},
   "outputs": [],
   "source": [
    "import matplotlib.pyplot as plt\n",
    "import pandas as pd\n",
    "\n",
    "from pprint import pprint\n",
    "import datetime\n",
    "import emoji"
   ]
  },
  {
   "cell_type": "code",
   "execution_count": null,
   "metadata": {},
   "outputs": [],
   "source": [
    "url = 'https://docs.google.com/spreadsheets/d/1NfZhi5Jav7kl9zFCkeb7rIC2F8xW1isruv1TeO4WpNI/export?format=tsv'"
   ]
  },
  {
   "cell_type": "code",
   "execution_count": null,
   "metadata": {},
   "outputs": [],
   "source": [
    "str(datetime.datetime.now())"
   ]
  },
  {
   "cell_type": "markdown",
   "metadata": {},
   "source": [
    "# Load the feedback"
   ]
  },
  {
   "cell_type": "code",
   "execution_count": null,
   "metadata": {},
   "outputs": [],
   "source": [
    "df = (pd.read_csv(url, sep='\\t')\n",
    "    # remove last column\n",
    "      .drop(['Make feedback confidential?'], axis=1)\n",
    "    # rename column\n",
    "      .rename(columns = {'Timestamp': 'timestamp',\n",
    "                         'How much did you like this tutorial?': 'note',\n",
    "                         'What did you like?': 'pro',\n",
    "                         'What could be improved?': 'con',\n",
    "                         'Tutorial': 'tutorial_topic'}))\n",
    "# extract topic from tutorial name\n",
    "new = df.tutorial_topic.str[::-1].str.split('(', n = 1, expand = True)\n",
    "df[\"tutorial\"]= new[1].str[::-1].str[:-1]\n",
    "df[\"topic\"]= new[0].str[::-1].str[:-1]\n",
    "df = (df.drop(columns =[\"tutorial_topic\"])\n",
    "    # remove rows with NaN on note, pro and con\n",
    "      .dropna(subset=['note', 'pro', 'con'], how='all')\n",
    "    # replace NaN in note by 0\n",
    "      .fillna(value={'note': 0}))\n",
    "# format note to integer\n",
    "df.note = df.note.astype(int)\n",
    "# format pro and con to string\n",
    "df.pro = df.pro.astype(str)\n",
    "df.con = df.con.astype(str)\n",
    "# format timestamp to remove hour and use datetime\n",
    "df.timestamp = pd.to_datetime(\n",
    "    df.timestamp.str.split(' ', n = 1, expand = True)[0],\n",
    "    dayfirst=True)"
   ]
  },
  {
   "cell_type": "code",
   "execution_count": null,
   "metadata": {},
   "outputs": [],
   "source": [
    "# change topic for some tutorials\n",
    "df.loc[df.tutorial == 'Formation of the Super-Structures on the Inactive X', 'topic'] = 'Epigenetics'\n",
    "df.loc[df.tutorial == 'Identification of the binding sites of the Estrogen receptor', 'topic'] = 'Epigenetics'\n",
    "df.loc[df.tutorial == 'Identification of the binding sites of the T-cell acute lymphocytic leukemia protein 1 (TAL1)', 'topic'] = 'Epigenetics'\n",
    "df.loc[df.tutorial == 'RAD-Seq Reference-based data analysis', 'topic'] = 'Ecology'\n",
    "df.loc[df.tutorial == 'RAD-Seq de-novo data analysis', 'topic'] = 'Ecology'\n",
    "df.loc[df.tutorial == 'RAD-Seq to construct genetic maps', 'topic'] = 'Ecology'"
   ]
  },
  {
   "cell_type": "markdown",
   "metadata": {},
   "source": [
    "# Aggregate the feedbacks and notes"
   ]
  },
  {
   "cell_type": "code",
   "execution_count": null,
   "metadata": {},
   "outputs": [],
   "source": [
    "def get_notes(df, name):\n",
    "    '''Aggregage the notes\n",
    "    \n",
    "    :df: dataframe with all feedbacks\n",
    "    \n",
    "    :return: dataframe object with aggregated notes\n",
    "    '''\n",
    "    return (df.note\n",
    "        .value_counts(sort=False)\n",
    "        .to_frame()\n",
    "        .rename(columns= {'note': name}))"
   ]
  },
  {
   "cell_type": "code",
   "execution_count": null,
   "metadata": {},
   "outputs": [],
   "source": [
    "notes = get_notes(df, 'All topics')"
   ]
  },
  {
   "cell_type": "code",
   "execution_count": null,
   "metadata": {},
   "outputs": [],
   "source": [
    "def get_topic_df(grouped_by_topic, topic, notes):\n",
    "    '''Extract the dataframe for a topic and plot note histogram\n",
    "    \n",
    "    :grouped_by_topic: groupby object grouping by topic\n",
    "    :topic: topic to extract\n",
    "    \n",
    "    :return: dataframe object for the topic\n",
    "    '''\n",
    "    topic_df = (grouped_by_topic\n",
    "        .get_group(topic)\n",
    "        .drop('topic', 1))\n",
    "    \n",
    "    notes = pd.concat([notes, get_notes(topic_df, topic)], axis=1)\n",
    "    return topic_df, notes\n",
    "\n",
    "\n",
    "def extract_tutorial_feedbacks(topic_df, topic_name):\n",
    "    '''Extract pro/con per tutorial for a topic and \n",
    "    write them in a file\n",
    "    \n",
    "    :topic_df: dataframe object for the topic\n",
    "    :topic_name: name for the topic, name for the file\n",
    "    '''\n",
    "    grouped_by_tuto = topic_df.groupby(by=\"tutorial\")\n",
    "    with open('../results/%s.md' % topic_name, 'w') as f:\n",
    "        for tuto, group in grouped_by_tuto:\n",
    "            # get groups\n",
    "            tuto_df = grouped_by_tuto.get_group(tuto)\n",
    "            pros = []\n",
    "            cons = []\n",
    "            # get pros/cons\n",
    "            for index, row in tuto_df.iterrows():\n",
    "                if row['pro'] != 'nan':\n",
    "                    pros.append(\"%s (*%s*)\" % (row['pro'], row['timestamp']))\n",
    "                if row['con'] != 'nan':\n",
    "                    cons.append(\"%s (*%s*)\" % (row['con'], row['timestamp']))\n",
    "            # write in report file\n",
    "            f.write(\"- **%s**\\n\" % tuto)\n",
    "            if len(pros) > 0:\n",
    "                f.write(\"  - Pro:\\n    - \")\n",
    "                f.write(\"\\n    - \".join(pros))\n",
    "            if len(cons) > 0:\n",
    "                f.write(\"\\n  - Con:\\n    - \")\n",
    "                f.write(\"\\n    - \".join(cons))\n",
    "            f.write(\"\\n\\n\")"
   ]
  },
  {
   "cell_type": "code",
   "execution_count": null,
   "metadata": {},
   "outputs": [],
   "source": [
    "grouped_by_topic = df.groupby(by=\"topic\")\n",
    "for topic in grouped_by_topic.groups:\n",
    "    print(topic)\n",
    "    topic_df, notes = get_topic_df(grouped_by_topic, topic, notes)\n",
    "    topic_name = topic.lower().replace(' ', '-')\n",
    "    extract_tutorial_feedbacks(topic_df, topic_name)"
   ]
  },
  {
   "cell_type": "markdown",
   "metadata": {},
   "source": [
    "Details (pros/cons) for each tutorials are available: https://github.com/bebatut/galaxy-training-material-stats/tree/master/results"
   ]
  },
  {
   "cell_type": "markdown",
   "metadata": {},
   "source": [
    "# General stats about feedback"
   ]
  },
  {
   "cell_type": "markdown",
   "metadata": {},
   "source": [
    "Feedback number:"
   ]
  },
  {
   "cell_type": "code",
   "execution_count": null,
   "metadata": {},
   "outputs": [],
   "source": [
    "# number of rows\n",
    "len(df)"
   ]
  },
  {
   "cell_type": "markdown",
   "metadata": {},
   "source": [
    "Feedback number over time"
   ]
  },
  {
   "cell_type": "code",
   "execution_count": null,
   "metadata": {},
   "outputs": [],
   "source": [
    "months = df.timestamp.dt.to_period(\"M\")\n",
    "nb_per_months = (df\n",
    "                 .groupby(months)\n",
    "                 .count()\n",
    "                 .timestamp)\n",
    "nb_per_months"
   ]
  },
  {
   "cell_type": "code",
   "execution_count": null,
   "metadata": {},
   "outputs": [],
   "source": [
    "plt.figure()\n",
    "(nb_per_months\n",
    "    .cumsum()\n",
    "    .plot())\n",
    "plt.xlabel('Months')\n",
    "plt.ylabel('Cumulative number of feedback')\n",
    "plt.show()"
   ]
  },
  {
   "cell_type": "markdown",
   "metadata": {},
   "source": [
    "Feedback number per topics"
   ]
  },
  {
   "cell_type": "code",
   "execution_count": null,
   "metadata": {},
   "outputs": [],
   "source": [
    "(grouped_by_topic\n",
    "     .count()\n",
    "     .sort_values('timestamp', ascending=False)\n",
    "     .timestamp)"
   ]
  },
  {
   "cell_type": "markdown",
   "metadata": {},
   "source": [
    "Top 10 tutorials with feedbacks"
   ]
  },
  {
   "cell_type": "code",
   "execution_count": null,
   "metadata": {},
   "outputs": [],
   "source": [
    "(df\n",
    "    .groupby(by=\"tutorial\")\n",
    "    .count()\n",
    "    .sort_values('timestamp', ascending=False)\n",
    "    .timestamp\n",
    "    .head(10))"
   ]
  },
  {
   "cell_type": "markdown",
   "metadata": {},
   "source": [
    "# Notes"
   ]
  },
  {
   "cell_type": "code",
   "execution_count": null,
   "metadata": {},
   "outputs": [],
   "source": [
    "def plot_note_histogram(s, title):\n",
    "    plt.figure()\n",
    "    s.plot(kind='barh', color='k', ylim=(0,5), xlim=(0,1), title=title)\n",
    "    plt.xlabel('Proportion of feedback')\n",
    "    plt.show()"
   ]
  },
  {
   "cell_type": "code",
   "execution_count": null,
   "metadata": {},
   "outputs": [],
   "source": [
    "notes = (notes\n",
    "         .fillna(0.0)\n",
    "         .astype(int)\n",
    "         .rename(index = {0: 'No value'}))\n",
    "# 1: emoji.emojize(':-1:', use_aliases=True)\n",
    "# 5: emoji.emojize(':heart:', use_aliases=True)\n",
    "notes"
   ]
  },
  {
   "cell_type": "code",
   "execution_count": null,
   "metadata": {
    "scrolled": false
   },
   "outputs": [],
   "source": [
    "notes_prop = (notes/notes.sum().round(2))\n",
    "for col in notes_prop.columns:\n",
    "    plot_note_histogram(notes_prop[col], col)"
   ]
  },
  {
   "cell_type": "code",
   "execution_count": null,
   "metadata": {},
   "outputs": [],
   "source": [
    "notes_prop"
   ]
  }
 ],
 "metadata": {
  "hide_input": false,
  "kernelspec": {
   "display_name": "Python 3",
   "language": "python",
   "name": "python3"
  },
  "language_info": {
   "codemirror_mode": {
    "name": "ipython",
    "version": 3
   },
   "file_extension": ".py",
   "mimetype": "text/x-python",
   "name": "python",
   "nbconvert_exporter": "python",
   "pygments_lexer": "ipython3",
   "version": "3.8.3"
  },
  "toc": {
   "nav_menu": {},
   "number_sections": true,
   "sideBar": true,
   "skip_h1_title": false,
   "title_cell": "Table of Contents",
   "title_sidebar": "Contents",
   "toc_cell": false,
   "toc_position": {},
   "toc_section_display": true,
   "toc_window_display": false
  }
 },
 "nbformat": 4,
 "nbformat_minor": 2
}
